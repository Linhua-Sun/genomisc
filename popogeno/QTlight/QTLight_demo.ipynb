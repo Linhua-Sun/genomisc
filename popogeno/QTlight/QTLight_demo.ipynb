{
 "cells": [
  {
   "cell_type": "markdown",
   "metadata": {},
   "source": [
    "__Import the functions__ (assumes that `QTLight_functions.py` is in your current working directory or in your python path)"
   ]
  },
  {
   "cell_type": "code",
   "execution_count": null,
   "metadata": {
    "collapsed": true
   },
   "outputs": [],
   "source": [
    "import QTLight_functions as QTL"
   ]
  },
  {
   "cell_type": "markdown",
   "metadata": {},
   "source": [
    "__Fetch relevant files from stacks populations run__"
   ]
  },
  {
   "cell_type": "code",
   "execution_count": null,
   "metadata": {
    "collapsed": true
   },
   "outputs": [],
   "source": [
    "%%bash\n",
    "\n",
    "ln -s test-data/batch_1.vcf.gz .\n",
    "ln -s test-data/populationmap .\n",
    "mkdir matrix"
   ]
  },
  {
   "cell_type": "markdown",
   "metadata": {},
   "source": [
    "__create 10 Bayenv input files with 5000 randomly selected loci in each__"
   ]
  },
  {
   "cell_type": "code",
   "execution_count": null,
   "metadata": {
    "collapsed": true
   },
   "outputs": [],
   "source": [
    "%%bash\n",
    "#pip install pyvcf\n",
    "\n",
    "for a in {1..10}\n",
    "do\n",
    "    echo -e \"\\nrepitition $a:\\n\"\n",
    "    python /home/chrishah/Dropbox/Github/genomisc/popogeno/vcf_2_bayenv.py batch_1.vcf.gz --min_number 6 -r 5000 -o matrix/random_5000_rep_$a -m populationmap\n",
    "done"
   ]
  },
  {
   "cell_type": "markdown",
   "metadata": {},
   "source": [
    "__create 10 covariance matrizes with 100000 iterations each__"
   ]
  },
  {
   "cell_type": "code",
   "execution_count": null,
   "metadata": {
    "collapsed": true
   },
   "outputs": [],
   "source": [
    "%%bash\n",
    "cd matrix/\n",
    "\n",
    "for a in {1..10}\n",
    "do\n",
    "    /home/chrishah/src/Bayenv/bayenv2 0 -p 4 -r -$RANDOM -k 100000 -i random_5000_rep_$a.bayenv.SNPfile > random_5000_rep_$a.log\n",
    "done"
   ]
  },
  {
   "cell_type": "markdown",
   "metadata": {},
   "source": [
    "__construct average covariance matrix from 10 random sets__"
   ]
  },
  {
   "cell_type": "code",
   "execution_count": null,
   "metadata": {
    "collapsed": true
   },
   "outputs": [],
   "source": [
    "import numpy as np\n",
    "main_list = []\n",
    "\n",
    "for a in range(10):\n",
    "    current = \"matrix/random_5000_rep_\"+str(a+1)+\"_it-1e5.matrix\"\n",
    "#    print current\n",
    "    IN = open(current,\"r\")\n",
    "    temp_list = []\n",
    "    for line in IN:\n",
    "        temp_list.extend(line.rstrip().split(\"\\t\"))\n",
    "\n",
    "    for i in range(len(temp_list)):\n",
    "        if a == 0:\n",
    "            main_list.append([float(temp_list[i])])\n",
    "        else:\n",
    "            main_list[i].append(float(temp_list[i]))\n",
    "        \n",
    "#print main_list\n",
    "\n",
    "av_out_list = []\n",
    "std_out_list = []\n",
    "for j in range(len(main_list)):\n",
    "    av_out_list.append(np.mean(main_list[j]))\n",
    "\n",
    "#print av_out_list\n",
    "\n",
    "outstring = \"\"\n",
    "for z in range(len(av_out_list)):\n",
    "    av_out_list[z] = \"%s\\t\" %av_out_list[z]\n",
    "    if not outstring:\n",
    "        outstring = av_out_list[z]\n",
    "    else:\n",
    "        outstring = outstring+av_out_list[z]\n",
    "        if ((z+1) % 4 == 0):\n",
    "            outstring = \"%s\\n\" %(outstring)\n",
    "\n",
    "\n",
    "OUT = open(\"matrix/av_matrix.matrix\",\"w\")\n",
    "OUT.write(outstring)\n",
    "OUT.close()\n",
    "        "
   ]
  },
  {
   "cell_type": "markdown",
   "metadata": {},
   "source": [
    "__Prepare__ environmental data - average and normalize\n",
    "\n",
    "raw data is provided in a csv file with the first column containing the population id. See example in test-data."
   ]
  },
  {
   "cell_type": "code",
   "execution_count": null,
   "metadata": {
    "collapsed": false
   },
   "outputs": [],
   "source": [
    "populations, IDs = QTL.normalize(csv='../Diplotaxodon_Morphometric_Data_raw.csv', normalize=True, norm_prefix='Diplotaxodon_Morphometric_Data_normalized', boxplot=False)"
   ]
  },
  {
   "cell_type": "code",
   "execution_count": null,
   "metadata": {
    "collapsed": false
   },
   "outputs": [],
   "source": [
    "print populations\n",
    "print IDs"
   ]
  },
  {
   "cell_type": "markdown",
   "metadata": {},
   "source": [
    "__convert vcf to bayenv - generate full SNP files__"
   ]
  },
  {
   "cell_type": "code",
   "execution_count": null,
   "metadata": {
    "collapsed": false
   },
   "outputs": [],
   "source": [
    "%%bash\n",
    "\n",
    "mkdir SNPfiles\n",
    "python /home/chrishah/Dropbox/Github/genomisc/popogeno/vcf_2_div.py ../batch_1.vcf.gz --min_number 6 -o SNPfiles/full_set -m ../populationmap"
   ]
  },
  {
   "cell_type": "markdown",
   "metadata": {},
   "source": [
    "__split up SNPfiles into single files__"
   ]
  },
  {
   "cell_type": "code",
   "execution_count": null,
   "metadata": {
    "collapsed": false
   },
   "outputs": [],
   "source": [
    "QTL.split_for_Bayenv(infile='SNPfiles/full_set.bayenv.SNPfile', out_prefix='SNPfiles/Diplo_SNP')"
   ]
  },
  {
   "cell_type": "markdown",
   "metadata": {},
   "source": [
    "__Run Bayenv for 10 replications__ serially"
   ]
  },
  {
   "cell_type": "code",
   "execution_count": null,
   "metadata": {
    "collapsed": false
   },
   "outputs": [],
   "source": [
    "#find the number of SNP files to add to specify in loop below\n",
    "!ls -1 SNPfiles/SNP-* |wc -l"
   ]
  },
  {
   "cell_type": "code",
   "execution_count": null,
   "metadata": {
    "collapsed": false
   },
   "outputs": [],
   "source": [
    "!mkdir running_Bayenv"
   ]
  },
  {
   "cell_type": "code",
   "execution_count": null,
   "metadata": {
    "collapsed": true
   },
   "outputs": [],
   "source": [
    "%%bash\n",
    "#adjust bayenv command to your requirements\n",
    "\n",
    "iterations=1000000\n",
    "\n",
    "cd running_Bayenv/\n",
    "\n",
    "for rep in {1..10}; do ran=$RANDOM; for a in {0000001..0021968}; do /home/chrishah/src/Bayenv/bayenv2 -i ../SNPfiles/SNP-$a.txt -e ../Nyassochromis_normalized.bayenv -m ../matrix/av_matrix.matrix -k $iterations -r -$ran -p 3 -n 14 -t -X -o bayenv_out_k100000_env_rep_$rep-rand_$ran; done > log_rep_$rep; done"
   ]
  },
  {
   "cell_type": "markdown",
   "metadata": {},
   "source": [
    "__ALTERNATIVE__\n",
    "\n",
    "__Bayenv__ can be run on a HPC cluster in parallel. I provide a script `submit_Bayenv_array_multi.sh` that I used to run 10 replicates as arrayjob on a cluster that was running a PBS scheduling system. Total runtime for 10 replicates with 1M Bayenv iterations/SNP was ~ 24h. The results from the individual runs were then concatenated with the script `concat_sorted.sh` and moved to the directory `running_Bayenv` on the local machine."
   ]
  },
  {
   "cell_type": "markdown",
   "metadata": {},
   "source": [
    "#ANALYSE RANK STATISTICS#\n",
    "please make sure you load all functions below first"
   ]
  },
  {
   "cell_type": "markdown",
   "metadata": {},
   "source": [
    "__Calculating RANK STATISTICS__"
   ]
  },
  {
   "cell_type": "code",
   "execution_count": null,
   "metadata": {
    "collapsed": true
   },
   "outputs": [],
   "source": [
    "mkdir RANK_STATISTIC/"
   ]
  },
  {
   "cell_type": "code",
   "execution_count": null,
   "metadata": {
    "collapsed": false
   },
   "outputs": [],
   "source": [
    "#create the list of Bayenv results files to be processed\n",
    "import os\n",
    "\n",
    "bayenv_res_dir = './running_bayenv/'\n",
    "bayenv_files = []\n",
    "\n",
    "for fil in os.listdir(bayenv_res_dir):\n",
    "    if fil.endswith(\".bf\"):\n",
    "        print(bayenv_res_dir+\"/\"+fil)\n",
    "        bayenv_files.append(bayenv_res_dir+\"/\"+fil)"
   ]
  },
  {
   "cell_type": "code",
   "execution_count": null,
   "metadata": {
    "collapsed": false
   },
   "outputs": [],
   "source": [
    "print bayenv_files\n",
    "print \"\\n%i\" %len(bayenv_files)\n",
    "print IDs"
   ]
  },
  {
   "cell_type": "code",
   "execution_count": null,
   "metadata": {
    "collapsed": false,
    "scrolled": true
   },
   "outputs": [],
   "source": [
    "\n",
    "rank_results = QTL.calculate_rank_stats(SNP_map=\"SNPfiles/full_set.bayenv.SNPmap\", infiles = bayenv_files, ids = IDs, prefix = 'RANK_STATISTIC/Diplo_k_1M')"
   ]
  },
  {
   "cell_type": "markdown",
   "metadata": {},
   "source": [
    "__CREATE POPE PLOTS and extract the SNP ids in the top 5 percent__ (assumes that the script `pope_plot.sh` is in your working directory)"
   ]
  },
  {
   "cell_type": "code",
   "execution_count": null,
   "metadata": {
    "collapsed": false
   },
   "outputs": [],
   "source": [
    "print IDs"
   ]
  },
  {
   "cell_type": "code",
   "execution_count": null,
   "metadata": {
    "collapsed": true
   },
   "outputs": [],
   "source": [
    "full_rank_files = []\n",
    "\n",
    "file_dir = 'RANK_STATISTIC/'\n",
    "for id in IDs:\n",
    "#    print id\n",
    "    for file in os.listdir(file_dir):\n",
    "        if file.endswith('_'+id+'.txt'):\n",
    "#            print [id,file_dir+'/'+file]\n",
    "            full_rank_files.append([id,file_dir+'/'+file])\n",
    "            break\n",
    "        "
   ]
  },
  {
   "cell_type": "code",
   "execution_count": null,
   "metadata": {
    "collapsed": false
   },
   "outputs": [],
   "source": [
    "print full_rank_files"
   ]
  },
  {
   "cell_type": "code",
   "execution_count": null,
   "metadata": {
    "collapsed": false
   },
   "outputs": [],
   "source": [
    "QTL.plot_pope(files_list=full_rank_files, cutoff=0.95, num_replicates=10)"
   ]
  },
  {
   "cell_type": "markdown",
   "metadata": {},
   "source": [
    "__CREATE POPE PLOTS and extract the SNP ids in the top 1 percent__"
   ]
  },
  {
   "cell_type": "code",
   "execution_count": null,
   "metadata": {
    "collapsed": false
   },
   "outputs": [],
   "source": [
    "QTL.plot_pope(files_list=full_rank_files, cutoff=0.99, num_replicates=10)"
   ]
  },
  {
   "cell_type": "markdown",
   "metadata": {},
   "source": [
    "__find genes__ up and downstream of correlated SNPs"
   ]
  },
  {
   "cell_type": "code",
   "execution_count": null,
   "metadata": {
    "collapsed": false
   },
   "outputs": [],
   "source": [
    "#make list desired rank statistic tsv files\n",
    "\n",
    "import os\n",
    "\n",
    "file_dir = 'RANK_STATISTIC/'\n",
    "\n",
    "rank_stats_files = []\n",
    "\n",
    "for file in os.listdir(file_dir):\n",
    "    if file.endswith('.tsv'):\n",
    "            print file_dir+'/'+file\n",
    "            rank_stats_files.append(file_dir+'/'+file)"
   ]
  },
  {
   "cell_type": "markdown",
   "metadata": {},
   "source": [
    "__parse a gff__ file"
   ]
  },
  {
   "cell_type": "code",
   "execution_count": null,
   "metadata": {
    "collapsed": false
   },
   "outputs": [],
   "source": [
    "gff_per_scaffold = QTL.parse_gff(gff='Metriaclima_zebra.BROADMZ2.gtf')"
   ]
  },
  {
   "cell_type": "markdown",
   "metadata": {},
   "source": [
    "__identify genes__ within a defined distance (in kb) up and down-stream of the SNPs"
   ]
  },
  {
   "cell_type": "code",
   "execution_count": null,
   "metadata": {
    "collapsed": false
   },
   "outputs": [],
   "source": [
    "genes_per_analysis = QTL.find_genes(rank_stats = rank_stats_files, gff = gff_per_scaffold, distance = 15)"
   ]
  },
  {
   "cell_type": "markdown",
   "metadata": {},
   "source": [
    "__annotated relevant genes__ based on blast2go annotation table"
   ]
  },
  {
   "cell_type": "code",
   "execution_count": null,
   "metadata": {
    "collapsed": false,
    "scrolled": true
   },
   "outputs": [],
   "source": [
    "QTL.annotate_genes(SNPs_to_genes=genes_per_analysis, annotations='blast2go_table_20150630_0957.txt')"
   ]
  },
  {
   "cell_type": "code",
   "execution_count": null,
   "metadata": {
    "collapsed": true
   },
   "outputs": [],
   "source": [
    "mkdir find_genes"
   ]
  },
  {
   "cell_type": "markdown",
   "metadata": {},
   "source": [
    "__write__ summary table for SNPs and relevant genes in the vicinity"
   ]
  },
  {
   "cell_type": "code",
   "execution_count": null,
   "metadata": {
    "collapsed": false,
    "scrolled": true
   },
   "outputs": [],
   "source": [
    "QTL.write_candidates(SNPs_to_genes=genes_per_analysis, whitelist=genes_per_analysis.keys(), out_dir='./find_genes/')"
   ]
  },
  {
   "cell_type": "code",
   "execution_count": null,
   "metadata": {
    "collapsed": true
   },
   "outputs": [],
   "source": []
  },
  {
   "cell_type": "markdown",
   "metadata": {},
   "source": [
    "A strategy for removing noise could be to __remove the most extreme Bayenv results and recalculate rank stats__"
   ]
  },
  {
   "cell_type": "code",
   "execution_count": null,
   "metadata": {
    "collapsed": true
   },
   "outputs": [],
   "source": [
    "mkdir RANK_STATISTIC_reduced"
   ]
  },
  {
   "cell_type": "code",
   "execution_count": null,
   "metadata": {
    "collapsed": false
   },
   "outputs": [],
   "source": [
    "QTL.exclude_extreme_rep(dictionary = rank_results, ids = IDs, prefix = 'RANK_STATISTIC_reduced/Diplotaxodon_reduced')"
   ]
  },
  {
   "cell_type": "code",
   "execution_count": null,
   "metadata": {
    "collapsed": true
   },
   "outputs": [],
   "source": [
    "reduced_rank_files = []\n",
    "\n",
    "file_dir = 'RANK_STATISTIC_reduced/'\n",
    "for id in IDs:\n",
    "#    print id\n",
    "    for file in os.listdir(file_dir):\n",
    "        if '_'+id+'_ex_rep' in file and file.endswith('.txt'):\n",
    "#            print [id,file_dir+'/'+file]\n",
    "            reduced_rank_files.append([id,file_dir+'/'+file])\n",
    "            break\n",
    "        "
   ]
  },
  {
   "cell_type": "code",
   "execution_count": null,
   "metadata": {
    "collapsed": false
   },
   "outputs": [],
   "source": [
    "print reduced_rank_files"
   ]
  },
  {
   "cell_type": "code",
   "execution_count": null,
   "metadata": {
    "collapsed": false
   },
   "outputs": [],
   "source": [
    "QTL.plot_pope(files_list=reduced_rank_files, cutoff=0.95, num_replicates=9)"
   ]
  },
  {
   "cell_type": "markdown",
   "metadata": {},
   "source": [
    "__find genes__ up and downstream of correlated SNPs"
   ]
  },
  {
   "cell_type": "code",
   "execution_count": null,
   "metadata": {
    "collapsed": false
   },
   "outputs": [],
   "source": [
    "#make list desired rank statistic tsv files\n",
    "\n",
    "import os\n",
    "\n",
    "file_dir = 'RANK_STATISTIC_reduced/'\n",
    "\n",
    "rank_stats_files = []\n",
    "\n",
    "for file in os.listdir(file_dir):\n",
    "    if file.endswith('.tsv'):\n",
    "            print file_dir+'/'+file\n",
    "            rank_stats_files.append(file_dir+'/'+file)"
   ]
  },
  {
   "cell_type": "code",
   "execution_count": null,
   "metadata": {
    "collapsed": true
   },
   "outputs": [],
   "source": [
    "mkdir find_genes_reduced/"
   ]
  },
  {
   "cell_type": "code",
   "execution_count": null,
   "metadata": {
    "collapsed": false
   },
   "outputs": [],
   "source": [
    "genes_per_analysis = QTL.find_genes(rank_stats = rank_stats_files, gff = gff_per_scaffold, distance = 15)"
   ]
  },
  {
   "cell_type": "code",
   "execution_count": null,
   "metadata": {
    "collapsed": false
   },
   "outputs": [],
   "source": [
    "QTL.annotate_genes(SNPs_to_genes=genes_per_analysis, annotations='blast2go_table_20150630_0957.txt')"
   ]
  },
  {
   "cell_type": "code",
   "execution_count": null,
   "metadata": {
    "collapsed": true
   },
   "outputs": [],
   "source": [
    "mkdir find_genes_reduced/"
   ]
  },
  {
   "cell_type": "code",
   "execution_count": null,
   "metadata": {
    "collapsed": true
   },
   "outputs": [],
   "source": [
    "QTL.write_candidates(SNPs_to_genes=genes_per_analysis, whitelist=genes_per_analysis.keys(), out_dir='./find_genes_reduced/')"
   ]
  }
 ],
 "metadata": {
  "kernelspec": {
   "display_name": "Python 2",
   "language": "python",
   "name": "python2"
  },
  "language_info": {
   "codemirror_mode": {
    "name": "ipython",
    "version": 2
   },
   "file_extension": ".py",
   "mimetype": "text/x-python",
   "name": "python",
   "nbconvert_exporter": "python",
   "pygments_lexer": "ipython2",
   "version": "2.7.9"
  }
 },
 "nbformat": 4,
 "nbformat_minor": 0
}
